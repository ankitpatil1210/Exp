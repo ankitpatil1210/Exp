{
  "nbformat": 4,
  "nbformat_minor": 0,
  "metadata": {
    "colab": {
      "name": "Untitled4.ipynb",
      "provenance": []
    },
    "kernelspec": {
      "name": "python3",
      "display_name": "Python 3"
    },
    "language_info": {
      "name": "python"
    }
  },
  "cells": [
    {
      "cell_type": "markdown",
      "source": [
        "Write a python program to convert temperatures to and from Celsius,Fahrenheit."
      ],
      "metadata": {
        "id": "Q1kY8FTk20DB"
      }
    },
    {
      "cell_type": "code",
      "source": [
        "print(\"Options are \\n\")\n",
        "print(\"1.Convert temperatures from Celsius to Fahrenheit \\n\")\n",
        "print(\"2.Convert temperatures from Fahrenheit to Celsius \\n\")\n",
        "opt=int(input(\"Choose any Option(1 or 2) : \"))\n",
        "if opt == 1:\n",
        "    print(\"Convert temperatures from Celsius to Fahrenheit \\n\")\n",
        "    cel = float(input(\"Enter Temperature in Celsius: \"))\n",
        "    fahr = (cel*9/5)+32\n",
        "    print(\"Temperature in Fahrenheit =\",fahr)\n",
        "elif opt == 2:\n",
        "    print(\"Convert temperatures from Fahrenheit to Celsius \\n\")\n",
        "    fahr = float(input(\"Enter Temperature in Fahrenheit: \"))\n",
        "    cel=(fahr-32)*5/9;\n",
        "    print(\"Temperature in Celsius =\",cel)\n",
        "else:\n",
        "    print(\"Invalid Option\")"
      ],
      "metadata": {
        "colab": {
          "base_uri": "https://localhost:8080/"
        },
        "id": "XjeX7XxD20RF",
        "outputId": "15e807e5-3e99-407c-fec4-f5fb51e73e82"
      },
      "execution_count": 28,
      "outputs": [
        {
          "output_type": "stream",
          "name": "stdout",
          "text": [
            "Options are \n",
            "\n",
            "1.Convert temperatures from Celsius to Fahrenheit \n",
            "\n",
            "2.Convert temperatures from Fahrenheit to Celsius \n",
            "\n",
            "Choose any Option(1 or 2) : 1\n",
            "Convert temperatures from Celsius to Fahrenheit \n",
            "\n",
            "Enter Temperature in Celsius: 53\n",
            "Temperature in Fahrenheit = 127.4\n"
          ]
        }
      ]
    }
  ]
}